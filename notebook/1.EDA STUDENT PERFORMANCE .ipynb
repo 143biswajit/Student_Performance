{
 "cells": [
  {
   "attachments": {},
   "cell_type": "markdown",
   "id": "541eb45a",
   "metadata": {},
   "source": [
    "# Student Performance Indicator\n",
    "## Life cycle of Machine learning Project\n",
    "- Understanding the Problem Statement\n",
    "- Data Collection\n",
    "- Data Checks to perform\n",
    "- Feature Engineering\n",
    "- Exploratory data analysis\n",
    "- Data Pre-Processing\n",
    "- Model Training\n",
    "- Choose best model"
   ]
  },
  {
   "attachments": {},
   "cell_type": "markdown",
   "id": "a28b7334",
   "metadata": {},
   "source": [
    "### 1) Problem statement\n",
    "- This project understands how the student's performance (test scores) is affected by other variables such as Gender, Ethnicity, Parental level of education, Lunch and Test preparation course."
   ]
  },
  {
   "attachments": {},
   "cell_type": "markdown",
   "id": "3ded8b31",
   "metadata": {},
   "source": [
    "### 2) Data Collection\n",
    "* Dataset Source - https://www.kaggle.com/datasets/spscientist/students-performance-in-exams?datasetId=74977\n",
    "* The data consists of 8 column and 1000 rows."
   ]
  },
  {
   "attachments": {},
   "cell_type": "markdown",
   "id": "530674c4",
   "metadata": {},
   "source": [
    "#### 2.1 Import Data and Required Packages"
   ]
  },
  {
   "cell_type": "code",
   "execution_count": null,
   "id": "0b3cc338",
   "metadata": {},
   "outputs": [],
   "source": [
    "import numpy as np\n",
    "import pandas as pd\n",
    "import seaborn as sns\n",
    "import matplotlib.pyplot as plt\n",
    "%matplotlib inline\n",
    "import warnings\n",
    "warnings.filterwarnings('ignore')"
   ]
  },
  {
   "cell_type": "code",
   "execution_count": null,
   "id": "0a9acc63",
   "metadata": {},
   "outputs": [],
   "source": [
    "# Import the CSV Data as Pandas DataFrame\n",
    "df = pd.read_csv(\"data\\StudentsPerformance.csv\")"
   ]
  },
  {
   "cell_type": "code",
   "execution_count": null,
   "id": "ccd748e4",
   "metadata": {},
   "outputs": [],
   "source": [
    "# Show Top 5 Records\n",
    "df.head()"
   ]
  },
  {
   "cell_type": "code",
   "execution_count": null,
   "id": "1311fdcc",
   "metadata": {},
   "outputs": [],
   "source": [
    "# printing the data shape,size,columns name of dataset\n",
    "print('the no of row present in the data frame =    ',df.shape[0])\n",
    "print(\"-\"*60)\n",
    "print('the no of column present in the data frame = ',df.shape[1])\n",
    "print(\"-\"*60)\n",
    "print('the no of data present in the data frame =   ',df.size)\n",
    "print(\"-\"*60)\n",
    "#Display column names\n",
    "print(f'Our dataset has following columns - {list(df.columns)}')"
   ]
  },
  {
   "attachments": {},
   "cell_type": "markdown",
   "id": "d038b371",
   "metadata": {},
   "source": [
    "#### 2.2 Dataset information\n",
    "- gender : sex of students -> (Male/female)\n",
    "- race/ethnicity : ethnicity of students -> (Group A, B,C, D,E)\n",
    "- parental level of education : parents' final education ->(bachelor's degree,some college,master's degree,associate's - degree,high school)\n",
    "- lunch : having lunch before test (standard or free/reduced)\n",
    "- test preparation course : complete or not complete before test\n",
    "- math score\n",
    "- reading score\n",
    "- writing score"
   ]
  },
  {
   "attachments": {},
   "cell_type": "markdown",
   "id": "7aa5cd1d",
   "metadata": {},
   "source": [
    "#### 3. Data Checks to perform\n",
    "* Check Missing values\n",
    "* Check Duplicates\n",
    "* Check data type\n",
    "* Check the number of unique values of each column\n",
    "* Check various categories present in the different categorical column\n",
    "* Check statistics of data set"
   ]
  },
  {
   "cell_type": "code",
   "execution_count": null,
   "id": "18b1b5a9",
   "metadata": {},
   "outputs": [],
   "source": [
    "# 3.1 Checking missing value\n",
    "# df.isnull().sum()\n",
    "for i in df :\n",
    "  if df[i].isna().sum()!=0:\n",
    "    print(i,\"is having \",df[i].isna().sum(),\"null values\",\"which is\",round(100*(df[i].isnull().sum()/len(df)), 2),\"%\")\n",
    "else:\n",
    "    print(\" There are no missing values in the data set\")"
   ]
  },
  {
   "cell_type": "code",
   "execution_count": null,
   "id": "39271c08",
   "metadata": {},
   "outputs": [],
   "source": [
    "# 3.2 Checkin Duplicates value\n",
    "a = df.duplicated().sum()\n",
    "if a != 0:\n",
    "    print(f\"The Dataset has {a} no of Duplicates value\")\n",
    "else:\n",
    "    print(\"There are no duplicates  values in the data set\")"
   ]
  },
  {
   "cell_type": "code",
   "execution_count": null,
   "id": "323c89fa",
   "metadata": {},
   "outputs": [],
   "source": [
    "# 3.3 Check data types & information & define numerical & categorical columns\n",
    "# print(df.info())\n",
    "print('-'*100)\n",
    "# find categorical variables\n",
    "categorical = [var for var in df.columns if df[var].dtype=='O']\n",
    "print(f'There are {len(categorical)} categorical variables and those are-\\n{categorical}')\n",
    "print('-'*100)\n",
    "\n",
    "# find Numerical variables\n",
    "numerical = [var for var in df.columns if df[var].dtype!='O']\n",
    "print(f'There are {len(numerical)} numerical variables and those are-\\n{numerical}')"
   ]
  },
  {
   "cell_type": "code",
   "execution_count": null,
   "id": "fe22b917",
   "metadata": {},
   "outputs": [],
   "source": [
    "# 3.4 Checking the number of unique values of each column\n",
    "# 3.5 Check various categories present in the different categorical column\n",
    "\n",
    "for i in df:\n",
    "  no_unique = df[i].nunique()   \n",
    "  if df[i].nunique() >=20:\n",
    "    print(f'{i} has {no_unique} unique value ')\n",
    "    print(\"-\"*100)\n",
    "  else :\n",
    "    print(f'{i} has {no_unique} unique values and those are :- {df[i].unique()} \\n {df[i].value_counts()}')\n",
    "    print(\"-\"*100)"
   ]
  },
  {
   "cell_type": "code",
   "execution_count": null,
   "id": "2feb6d95",
   "metadata": {},
   "outputs": [],
   "source": [
    "# 3.5 Check statistics of data set\n",
    "df.describe()\n"
   ]
  },
  {
   "attachments": {},
   "cell_type": "markdown",
   "id": "705f52ca",
   "metadata": {},
   "source": [
    "### Insight\n",
    "* From above description of numerical data, all means are very close to each other - between 66 and 68.05;\n",
    "* All standard deviations are also close - between 14.6 and 15.19;\n",
    "* While there is a minimum score 0 for math, for writing minimum is much higher = 10 and for reading myet higher = 17"
   ]
  },
  {
   "attachments": {},
   "cell_type": "markdown",
   "id": "06e9c32f",
   "metadata": {},
   "source": [
    "### 4.Feature engineering\n",
    "* Adding columns for \"Total Score\" and \"Average\""
   ]
  },
  {
   "cell_type": "code",
   "execution_count": null,
   "id": "721e5f6d",
   "metadata": {},
   "outputs": [],
   "source": [
    "df['total score'] = df['math_score'] + df['reading_score'] + df['writing_score']\n",
    "df['average'] = df['total score']/3\n",
    "df.head()"
   ]
  },
  {
   "attachments": {},
   "cell_type": "markdown",
   "id": "8a397789",
   "metadata": {},
   "source": [
    "\n",
    "### 5.Exploratory data analysis ( Visualization )"
   ]
  },
  {
   "cell_type": "code",
   "execution_count": null,
   "id": "49695370",
   "metadata": {},
   "outputs": [],
   "source": [
    "reading_full = df[df['reading_score'] == 100]['average'].count()\n",
    "writing_full = df[df['writing_score'] == 100]['average'].count()\n",
    "math_full = df[df['math_score'] == 100]['average'].count()\n",
    "\n",
    "print(f'Number of students with full marks in Maths: {math_full}')\n",
    "print(f'Number of students with full marks in Writing: {writing_full}')\n",
    "print(f'Number of students with full marks in Reading: {reading_full}')"
   ]
  },
  {
   "cell_type": "code",
   "execution_count": null,
   "id": "f7891ac9",
   "metadata": {},
   "outputs": [],
   "source": [
    "reading_less_20 = df[df['reading_score'] <= 20]['average'].count()\n",
    "writing_less_20 = df[df['writing_score'] <= 20]['average'].count()\n",
    "math_less_20 = df[df['math_score'] <= 20]['average'].count()\n",
    "\n",
    "print(f'Number of students with less than 20 marks in Maths: {math_less_20}')\n",
    "print(f'Number of students with less than 20 marks in Writing: {writing_less_20}')\n",
    "print(f'Number of students with less than 20 marks in Reading: {reading_less_20}')"
   ]
  },
  {
   "attachments": {},
   "cell_type": "markdown",
   "id": "1e1bce81",
   "metadata": {},
   "source": [
    "#### Insights\n",
    "* From above values we get students have performed the worst in Maths\n",
    "* Best performance is in reading section"
   ]
  },
  {
   "attachments": {},
   "cell_type": "markdown",
   "id": "574a19ca",
   "metadata": {},
   "source": [
    "### 5.1 Checking \"OUTLIERS\" & \"DISTRIBUTION\" of numerical data:"
   ]
  },
  {
   "cell_type": "code",
   "execution_count": null,
   "id": "783a9ff1",
   "metadata": {},
   "outputs": [],
   "source": [
    "## ploting boxplot to visualize outlier and subplot to visualize distribution\n",
    "for var in numerical:\n",
    "    plt.figure(figsize=(15,6))\n",
    "    plt.subplot(1, 2, 1)\n",
    "    fig = sns.boxplot(y=df[var])\n",
    "    fig.set_title('')\n",
    "    fig.set_ylabel(var)\n",
    "    \n",
    "    plt.subplot(1, 2, 2)\n",
    "    fig = sns.distplot(df[var])\n",
    "    fig.set_ylabel('avg math score')\n",
    "    fig.set_xlabel(var)\n",
    "\n",
    "    plt.show()"
   ]
  },
  {
   "cell_type": "code",
   "execution_count": null,
   "id": "2c37f18a",
   "metadata": {},
   "outputs": [],
   "source": [
    "# plt.subplots(1,4,figsize=(16,5))\n",
    "# plt.subplot(141)\n",
    "# sns.boxplot(df['math_score'],color='skyblue')\n",
    "# plt.subplot(142)\n",
    "# sns.boxplot(df['reading_score'],color='hotpink')\n",
    "# plt.subplot(143)\n",
    "# sns.boxplot(df['writing_score'],color='yellow')\n",
    "# plt.subplot(144)\n",
    "sns.boxplot(df['average'],color='lightgreen')\n",
    "plt.show()"
   ]
  },
  {
   "attachments": {},
   "cell_type": "markdown",
   "id": "8e8d3ebd",
   "metadata": {},
   "source": [
    "### 5.2 Visualize average score distribution to make some conclusion.\n",
    "* Histogram\n",
    "* Kernel Distribution Function (KDE)"
   ]
  },
  {
   "cell_type": "code",
   "execution_count": null,
   "id": "39c40fe4",
   "metadata": {},
   "outputs": [],
   "source": [
    "# 4.4.1 Histogram & KDE\n",
    "fig, axs = plt.subplots(1, 2, figsize=(15, 7))\n",
    "plt.subplot(121)\n",
    "sns.histplot(data=df,x='average',bins=30,kde=True,color='g')\n",
    "plt.subplot(122)\n",
    "sns.histplot(data=df,x='average',kde=True,hue='gender')\n",
    "plt.show()"
   ]
  },
  {
   "cell_type": "code",
   "execution_count": null,
   "id": "abd739c0",
   "metadata": {},
   "outputs": [],
   "source": [
    "fig, axs = plt.subplots(1, 2, figsize=(15, 7))\n",
    "plt.subplot(121)\n",
    "sns.histplot(data=df,x='total score',bins=30,kde=True,color='g')\n",
    "plt.subplot(122)\n",
    "sns.histplot(data=df,x='total score',kde=True,hue='gender')\n",
    "plt.show()"
   ]
  },
  {
   "attachments": {},
   "cell_type": "markdown",
   "id": "48bf88f8",
   "metadata": {},
   "source": [
    "##### Insights\n",
    "* Female students tend to perform well then male students."
   ]
  },
  {
   "cell_type": "code",
   "execution_count": null,
   "id": "16287f05",
   "metadata": {},
   "outputs": [],
   "source": [
    "plt.subplots(1,3,figsize=(25,6))\n",
    "plt.subplot(141)\n",
    "sns.histplot(data=df,x='average',kde=True,hue='lunch')\n",
    "plt.subplot(142)\n",
    "sns.histplot(data=df[df.gender=='female'],x='average',kde=True,hue='lunch')\n",
    "plt.subplot(143)\n",
    "sns.histplot(data=df[df.gender=='male'],x='average',kde=True,hue='lunch')\n",
    "plt.show()"
   ]
  },
  {
   "attachments": {},
   "cell_type": "markdown",
   "id": "900532f8",
   "metadata": {},
   "source": [
    "#### Insights\n",
    "* Standard lunch helps perform well in exams.\n",
    "* Standard lunch helps perform well in exams be it a male or a female."
   ]
  },
  {
   "cell_type": "code",
   "execution_count": null,
   "id": "f89ac013",
   "metadata": {},
   "outputs": [],
   "source": [
    "plt.subplots(1,3,figsize=(25,6))\n",
    "plt.subplot(141)\n",
    "ax =sns.histplot(data=df,x='average',kde=True,hue='parental_level_of_education')\n",
    "plt.subplot(142)\n",
    "ax =sns.histplot(data=df[df.gender=='male'],x='average',kde=True,hue='parental_level_of_education')\n",
    "plt.subplot(143)\n",
    "ax =sns.histplot(data=df[df.gender=='female'],x='average',kde=True,hue='parental_level_of_education')\n",
    "plt.show()"
   ]
  },
  {
   "attachments": {},
   "cell_type": "markdown",
   "id": "74dc4935",
   "metadata": {},
   "source": [
    "\n",
    "#### Insights\n",
    "* In general parent's education don't help student perform well in exam.\n",
    "* 2nd plot shows that parent's whose education is of associate's degree or master's degree their male child tend to perform well in exam\n",
    "* 3rd plot we can see there is no effect of parent's education on female students."
   ]
  },
  {
   "cell_type": "code",
   "execution_count": null,
   "id": "a5511213",
   "metadata": {},
   "outputs": [],
   "source": [
    "plt.subplots(1,3,figsize=(25,6))\n",
    "plt.subplot(141)\n",
    "ax =sns.histplot(data=df,x='average',kde=True,hue='race_ethnicity')\n",
    "plt.subplot(142)\n",
    "ax =sns.histplot(data=df[df.gender=='female'],x='average',kde=True,hue='race_ethnicity')\n",
    "plt.subplot(143)\n",
    "ax =sns.histplot(data=df[df.gender=='male'],x='average',kde=True,hue='race_ethnicity')\n",
    "plt.show()"
   ]
  },
  {
   "attachments": {},
   "cell_type": "markdown",
   "id": "4bbeca1d",
   "metadata": {},
   "source": [
    "#### Insights\n",
    "* Students of group A and group B tends to perform poorly in exam.\n",
    "* Students of group A and group B tends to perform poorly in exam irrespective of whether they are male or female"
   ]
  },
  {
   "attachments": {},
   "cell_type": "markdown",
   "id": "9cffeeeb",
   "metadata": {},
   "source": [
    "#### 5.3 Maximumum score of students in all three subjects"
   ]
  },
  {
   "cell_type": "code",
   "execution_count": null,
   "id": "45edb270",
   "metadata": {},
   "outputs": [],
   "source": [
    "plt.figure(figsize=(18,8))\n",
    "plt.subplot(1, 4, 1)\n",
    "plt.title('MATH SCORES')\n",
    "sns.violinplot(y='math_score',data=df,color='red',linewidth=3)\n",
    "plt.subplot(1, 4, 2)\n",
    "plt.title('READING SCORES')\n",
    "sns.violinplot(y='reading_score',data=df,color='green',linewidth=3)\n",
    "plt.subplot(1, 4, 3)\n",
    "plt.title('WRITING SCORES')\n",
    "sns.violinplot(y='writing_score',data=df,color='blue',linewidth=3)\n",
    "plt.show()"
   ]
  },
  {
   "attachments": {},
   "cell_type": "markdown",
   "id": "da27fdd8",
   "metadata": {},
   "source": [
    "#### Insights\n",
    "* From the above three plots its clearly visible that most of the students score in between 60-80 in Maths whereas in reading and writing most of them score from 50-80"
   ]
  },
  {
   "attachments": {},
   "cell_type": "markdown",
   "id": "236b4914",
   "metadata": {},
   "source": [
    "### 5.4 Multivariate analysis using pieplot"
   ]
  },
  {
   "cell_type": "code",
   "execution_count": null,
   "id": "a07bf249",
   "metadata": {},
   "outputs": [],
   "source": [
    "#making pie chart for all catagorical type varibale\n",
    "fig, axes = plt.subplots(2, 3, figsize=(24, 25))\n",
    "axes = [ax for categorical in axes for ax in categorical]\n",
    "\n",
    "for i, c in enumerate(df[categorical]):\n",
    "  df[c].value_counts().plot(kind = 'pie', ax=axes[i], title=c, autopct='%1.1f%%', fontsize=12,startangle=10)\n",
    "  axes[i].set_ylabel('')    \n",
    "  plt.tight_layout()"
   ]
  },
  {
   "attachments": {},
   "cell_type": "markdown",
   "id": "2835c97d",
   "metadata": {},
   "source": [
    "#### Insights\n",
    "* Number of Male and Female students is almost equal\n",
    "* Number students are greatest in Group C\n",
    "* Number of students who have standard lunch are greater\n",
    "* Number of students who have not enrolled in any test preparation course is greater\n",
    "* Number of students whose parental education is \"Some College\" is greater followed closely by \"Associate's Degree\"* "
   ]
  },
  {
   "attachments": {},
   "cell_type": "markdown",
   "id": "b9013bfe",
   "metadata": {},
   "source": [
    "### 5.6 Feature Wise Visualization"
   ]
  },
  {
   "attachments": {},
   "cell_type": "markdown",
   "id": "c4efedac",
   "metadata": {},
   "source": [
    "### 5.6.1 GENDER COLUMN"
   ]
  },
  {
   "attachments": {},
   "cell_type": "markdown",
   "id": "9dbb719c",
   "metadata": {},
   "source": [
    "- How is distribution of Gender ?\n",
    "- Is gender has any impact on student's performance ?"
   ]
  },
  {
   "attachments": {},
   "cell_type": "markdown",
   "id": "6f675215",
   "metadata": {},
   "source": [
    "#### UNIVARIATE ANALYSIS ( How is distribution of Gender ? )"
   ]
  },
  {
   "cell_type": "code",
   "execution_count": null,
   "id": "c968910d",
   "metadata": {},
   "outputs": [],
   "source": [
    "f,ax=plt.subplots(1,2,figsize=(20,10))\n",
    "sns.countplot(x=df['gender'],data=df,palette ='bright',ax=ax[0],saturation=0.95)\n",
    "for container in ax[0].containers:\n",
    "    ax[0].bar_label(container,color='black',size=20)\n",
    "    \n",
    "plt.pie(x=df['gender'].value_counts(),labels=['Male','Female'],explode=[0,0.1],autopct='%1.1f%%',shadow=True,colors=['#ff4d4d','#ff8000'])\n",
    "plt.show()"
   ]
  },
  {
   "attachments": {},
   "cell_type": "markdown",
   "id": "c43ab5f5",
   "metadata": {},
   "source": [
    "#### Insights\n",
    "* Gender has balanced data with female students are 518 (48%) and male students are 482 (52%)"
   ]
  },
  {
   "attachments": {},
   "cell_type": "markdown",
   "id": "50faabc4",
   "metadata": {},
   "source": [
    "#### BIVARIATE ANALYSIS ( Is gender has any impact on student's performance ? )"
   ]
  },
  {
   "cell_type": "code",
   "execution_count": null,
   "id": "46b01127",
   "metadata": {},
   "outputs": [],
   "source": [
    "\n",
    "gender_group = df.groupby('gender').mean()\n",
    "gender_group"
   ]
  },
  {
   "cell_type": "code",
   "execution_count": null,
   "id": "2ec68bd4",
   "metadata": {},
   "outputs": [],
   "source": [
    "df.columns"
   ]
  },
  {
   "cell_type": "code",
   "execution_count": null,
   "id": "9d1b45ef",
   "metadata": {},
   "outputs": [],
   "source": [
    "plt.figure(figsize=(10, 8))\n",
    "\n",
    "X = ['Total Average','Math Average']\n",
    "\n",
    "\n",
    "female_scores = [gender_group['average'][0], gender_group['math_score'][0]]\n",
    "male_scores = [gender_group['average'][1], gender_group['math_score'][1]]\n",
    "\n",
    "X_axis = np.arange(len(X))\n",
    "  \n",
    "plt.bar(X_axis - 0.2, male_scores, 0.4, label = 'Male')\n",
    "plt.bar(X_axis + 0.2, female_scores, 0.4, label = 'Female')\n",
    "  \n",
    "plt.xticks(X_axis, X)\n",
    "plt.ylabel(\"Marks\")\n",
    "plt.title(\"Total average v/s Math average marks of both the genders\", fontweight='bold')\n",
    "plt.legend()\n",
    "plt.show()\n"
   ]
  },
  {
   "attachments": {},
   "cell_type": "markdown",
   "id": "13661471",
   "metadata": {},
   "source": [
    "#### Insights\n",
    "\n",
    "* On an average females have a better overall score than men.\n",
    "* whereas males have scored higher in Maths.\n",
    "\n",
    "#### 5.6.2 RACE/EHNICITY COLUMN\n",
    "\n",
    "* How is Group wise distribution ?\n",
    "* Is Race/Ehnicity has any impact on student's performance ?\n",
    "\n",
    "#### UNIVARIATE ANALYSIS ( How is Group wise distribution ?)"
   ]
  },
  {
   "cell_type": "code",
   "execution_count": null,
   "id": "4d950ee0",
   "metadata": {},
   "outputs": [],
   "source": [
    "f,ax=plt.subplots(1,2,figsize=(20,10))\n",
    "sns.countplot(x=df['race_ethnicity'],data=df,palette = 'bright',ax=ax[0],saturation=0.95)\n",
    "for container in ax[0].containers:\n",
    "    ax[0].bar_label(container,color='black',size=20)\n",
    "    \n",
    "plt.pie(x = df['race_ethnicity'].value_counts(),labels=df['race_ethnicity'].value_counts().index,explode=[0.1,0,0,0,0],autopct='%1.1f%%',shadow=True)\n",
    "plt.show()   "
   ]
  },
  {
   "attachments": {},
   "cell_type": "markdown",
   "id": "50e13f06",
   "metadata": {},
   "source": [
    "#### Insights\n",
    "* Most of the student belonging from group C /group D.\n",
    "* Lowest number of students belong to groupA.\n",
    "\n",
    "### BIVARIATE ANALYSIS ( Is Race/Ehnicity has any impact on student's performance ? )"
   ]
  },
  {
   "cell_type": "code",
   "execution_count": null,
   "id": "3d860fe8",
   "metadata": {},
   "outputs": [],
   "source": [
    "Group_data2=df.groupby('race_ethnicity')\n",
    "f,ax=plt.subplots(1,3,figsize=(20,8))\n",
    "sns.barplot(x=Group_data2['math_score'].mean().index,y=Group_data2['math_score'].mean().values,palette = 'mako',ax=ax[0])\n",
    "ax[0].set_title('Math_score',color='#005ce6',size=20)\n",
    "\n",
    "for container in ax[0].containers:\n",
    "    ax[0].bar_label(container,color='black',size=15)\n",
    "\n",
    "sns.barplot(x=Group_data2['reading_score'].mean().index,y=Group_data2['reading_score'].mean().values,palette = 'flare',ax=ax[1])\n",
    "ax[1].set_title('Reading score',color='#005ce6',size=20)\n",
    "\n",
    "for container in ax[1].containers:\n",
    "    ax[1].bar_label(container,color='black',size=15)\n",
    "\n",
    "sns.barplot(x=Group_data2['writing_score'].mean().index,y=Group_data2['writing_score'].mean().values,palette = 'coolwarm',ax=ax[2])\n",
    "ax[2].set_title('Writing score',color='#005ce6',size=20)\n",
    "\n",
    "for container in ax[2].containers:\n",
    "    ax[2].bar_label(container,color='black',size=15)"
   ]
  },
  {
   "attachments": {},
   "cell_type": "markdown",
   "id": "430ba64d",
   "metadata": {},
   "source": [
    "#### Insights\n",
    "* Group E students have scored the highest marks.\n",
    "* Group A students have scored the lowest marks.\n",
    "* Students from a lower Socioeconomic status have a lower avg in all course subjects\n",
    "\n",
    "### 5.6.3 PARENTAL LEVEL OF EDUCATION COLUMN\n",
    "\n",
    "* What is educational background of student's parent ?\n",
    "* Is parental education has any impact on student's performance ?\n",
    "\n",
    "#### UNIVARIATE ANALYSIS ( What is educational background of student's parent ? )"
   ]
  },
  {
   "cell_type": "code",
   "execution_count": null,
   "id": "af0d967c",
   "metadata": {},
   "outputs": [],
   "source": [
    "plt.rcParams['figure.figsize'] = (15, 9)\n",
    "plt.style.use('fivethirtyeight')\n",
    "sns.countplot(df['parental_level_of_education'], palette = 'Blues')\n",
    "plt.title('Comparison of Parental Education', fontweight = 30, fontsize = 20)\n",
    "plt.xlabel('Degree')\n",
    "plt.ylabel('count')\n",
    "plt.show()"
   ]
  },
  {
   "attachments": {},
   "cell_type": "markdown",
   "id": "c6cc7e87",
   "metadata": {},
   "source": [
    "#### Insights\n",
    "* Largest number of parents are from some college.\n",
    "* BIVARIATE ANALYSIS ( Is parental education has any impact on student's performance ? )"
   ]
  },
  {
   "cell_type": "code",
   "execution_count": null,
   "id": "9ffc06d3",
   "metadata": {},
   "outputs": [],
   "source": [
    "df.groupby('parental_level_of_education').agg('mean').plot(kind='barh',figsize=(10,10))\n",
    "plt.legend(bbox_to_anchor=(1.05, 1), loc=2, borderaxespad=0.)\n",
    "plt.show()"
   ]
  },
  {
   "attachments": {},
   "cell_type": "markdown",
   "id": "154bd324",
   "metadata": {},
   "source": [
    "#### Insights\n",
    "* The score of student whose parents possess master and bachelor level education are higher than others.\n",
    "\n",
    "### 5.6.4 LUNCH COLUMN\n",
    "\n",
    "* Which type of lunch is most common amoung students ?\n",
    "* What is the effect of lunch type on test results?\n",
    "\n",
    "### UNIVARIATE ANALYSIS ( Which type of lunch is most common amoung students ? )"
   ]
  },
  {
   "cell_type": "code",
   "execution_count": null,
   "id": "a93d0dbe",
   "metadata": {},
   "outputs": [],
   "source": [
    "plt.rcParams['figure.figsize'] = (15, 9)\n",
    "plt.style.use('seaborn-talk')\n",
    "sns.countplot(df['lunch'], palette = 'PuBu')\n",
    "plt.title('Comparison of different types of lunch', fontweight = 30, fontsize = 20)\n",
    "plt.xlabel('types of lunch')\n",
    "plt.ylabel('count')\n",
    "plt.show()"
   ]
  },
  {
   "attachments": {},
   "cell_type": "markdown",
   "id": "57d53953",
   "metadata": {},
   "source": [
    "#### Insights\n",
    "* Students being served Standard lunch was more than free lunch\n",
    "* BIVARIATE ANALYSIS ( Is lunch type intake has any impact on student's performance ? )"
   ]
  },
  {
   "cell_type": "code",
   "execution_count": null,
   "id": "c62ba849",
   "metadata": {},
   "outputs": [],
   "source": [
    "f,ax=plt.subplots(1,2,figsize=(20,8))\n",
    "sns.countplot(x=df['parental_level_of_education'],data=df,palette = 'bright',hue='test_preparation_course',saturation=0.95,ax=ax[0])\n",
    "ax[0].set_title('Students vs test preparation course ',color='black',size=25)\n",
    "for container in ax[0].containers:\n",
    "    ax[0].bar_label(container,color='black',size=20)\n",
    "    \n",
    "sns.countplot(x=df['parental_level_of_education'],data=df,palette = 'bright',hue='lunch',saturation=0.95,ax=ax[1])\n",
    "for container in ax[1].containers:\n",
    "    ax[1].bar_label(container,color='black',size=20)  "
   ]
  },
  {
   "attachments": {},
   "cell_type": "markdown",
   "id": "6f39e76f",
   "metadata": {},
   "source": [
    "#### Insights\n",
    "* Students who get Standard Lunch tend to perform better than students who got free/reduced lunch\n",
    "\n",
    "### 5.6.5 TEST PREPARATION COURSE COLUMN\n",
    "* Which type of lunch is most common amoung students ?\n",
    "* Is Test prepration course has any impact on student's performance ?\n",
    "\n",
    "### BIVARIATE ANALYSIS ( Is Test prepration course has any impact on student's performance ? )"
   ]
  },
  {
   "cell_type": "code",
   "execution_count": null,
   "id": "70949d19",
   "metadata": {},
   "outputs": [],
   "source": [
    "plt.figure(figsize=(12,6))\n",
    "plt.subplot(2,2,1)\n",
    "sns.barplot (x=df['lunch'], y=df['math_score'], hue=df['test_preparation_course'])\n",
    "plt.subplot(2,2,2)\n",
    "sns.barplot (x=df['lunch'], y=df['reading_score'], hue=df['test_preparation_course'])\n",
    "plt.subplot(2,2,3)\n",
    "sns.barplot (x=df['lunch'], y=df['writing_score'], hue=df['test_preparation_course'])"
   ]
  },
  {
   "attachments": {},
   "cell_type": "markdown",
   "id": "070d6ab6",
   "metadata": {},
   "source": [
    "#### Insights\n",
    "* Students who have completed the Test Prepration Course have scores higher in all three categories than those who haven't taken the course\n",
    "### 5.6.7 MUTIVARIATE ANALYSIS USING PAIRPLOT"
   ]
  },
  {
   "cell_type": "code",
   "execution_count": null,
   "id": "4c6ff034",
   "metadata": {},
   "outputs": [],
   "source": [
    "sns.pairplot(df,hue = 'gender')\n",
    "plt.show()"
   ]
  },
  {
   "attachments": {},
   "cell_type": "markdown",
   "id": "b2c6480a",
   "metadata": {},
   "source": [
    "#### Insights\n",
    "* From the above plot it is clear that all the scores increase linearly with each other.\n",
    "\n",
    "## 6. Conclusions\n",
    "* Student's Performance is related with lunch, race, parental level education\n",
    "* Females lead in pass percentage and also are top-scorers\n",
    "* Student's Performance is not much related with test preparation course\n",
    "* Finishing preparation course is benefitial."
   ]
  },
  {
   "cell_type": "code",
   "execution_count": null,
   "id": "687bebbe",
   "metadata": {},
   "outputs": [],
   "source": []
  }
 ],
 "metadata": {
  "kernelspec": {
   "display_name": "Python 3 (ipykernel)",
   "language": "python",
   "name": "python3"
  },
  "language_info": {
   "codemirror_mode": {
    "name": "ipython",
    "version": 3
   },
   "file_extension": ".py",
   "mimetype": "text/x-python",
   "name": "python",
   "nbconvert_exporter": "python",
   "pygments_lexer": "ipython3",
   "version": "3.8.0"
  }
 },
 "nbformat": 4,
 "nbformat_minor": 5
}
